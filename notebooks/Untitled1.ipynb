{
 "cells": [
  {
   "cell_type": "code",
   "execution_count": 15,
   "id": "8f129d64",
   "metadata": {},
   "outputs": [],
   "source": [
    "texts = [\n",
    "            '2019 C.T. Bauer College Business Graduate Magna Cum Laude aspire Human Resources professional',\n",
    "             'Aspiring Human Resources Professional Kudipudi'\n",
    "]"
   ]
  },
  {
   "cell_type": "code",
   "execution_count": 19,
   "id": "2bace7b8",
   "metadata": {},
   "outputs": [],
   "source": [
    "tokens = [['2019', 'C.T.', 'Bauer', 'College', 'Business', 'Graduate', 'Magna', 'Cum', 'Laude', 'aspire', 'Human', 'Resources', 'Professional', 'aspire', 'Human', 'Human'],\n",
    "['aspire', 'Human', 'Resources', 'Professional', 'aspire', 'aspire', 'kudipudi']]"
   ]
  },
  {
   "cell_type": "code",
   "execution_count": 20,
   "id": "b89f3ad4",
   "metadata": {},
   "outputs": [],
   "source": [
    "vocabulary = [\n",
    "     'College', 'Cum', 'Business', 'aspire', 'Human', 'Resources', 'Laude', 'professional', 'Bauer', 'Magna', \n",
    "     'Graduate', 'C.T.', '2019', 'Professional', 'Kudipudi']"
   ]
  },
  {
   "cell_type": "markdown",
   "id": "dc004010",
   "metadata": {},
   "source": [
    "matrix will be size(len(vocabulary), len(vocabulary))"
   ]
  },
  {
   "cell_type": "code",
   "execution_count": 21,
   "id": "6113abc1",
   "metadata": {},
   "outputs": [
    {
     "name": "stdout",
     "output_type": "stream",
     "text": [
      "[[0. 1. 1. 2. 3. 1. 1. 0. 1. 1. 1. 1. 1. 1. 0.]\n",
      " [1. 0. 1. 2. 3. 1. 1. 0. 1. 1. 1. 1. 1. 1. 0.]\n",
      " [1. 1. 0. 2. 3. 1. 1. 0. 1. 1. 1. 1. 1. 1. 0.]\n",
      " [2. 2. 2. 2. 6. 2. 2. 0. 2. 2. 2. 2. 2. 2. 0.]\n",
      " [3. 3. 3. 6. 6. 3. 3. 0. 3. 3. 3. 3. 3. 3. 0.]\n",
      " [1. 1. 1. 2. 3. 0. 1. 0. 1. 1. 1. 1. 1. 1. 0.]\n",
      " [1. 1. 1. 2. 3. 1. 0. 0. 1. 1. 1. 1. 1. 1. 0.]\n",
      " [0. 0. 0. 0. 0. 0. 0. 0. 0. 0. 0. 0. 0. 0. 0.]\n",
      " [1. 1. 1. 2. 3. 1. 1. 0. 0. 1. 1. 1. 1. 1. 0.]\n",
      " [1. 1. 1. 2. 3. 1. 1. 0. 1. 0. 1. 1. 1. 1. 0.]\n",
      " [1. 1. 1. 2. 3. 1. 1. 0. 1. 1. 0. 1. 1. 1. 0.]\n",
      " [1. 1. 1. 2. 3. 1. 1. 0. 1. 1. 1. 0. 1. 1. 0.]\n",
      " [1. 1. 1. 2. 3. 1. 1. 0. 1. 1. 1. 1. 0. 1. 0.]\n",
      " [1. 1. 1. 2. 3. 1. 1. 0. 1. 1. 1. 1. 1. 0. 0.]\n",
      " [0. 0. 0. 0. 0. 0. 0. 0. 0. 0. 0. 0. 0. 0. 0.]]\n"
     ]
    }
   ],
   "source": [
    "import numpy as np\n",
    "mat = np.zeros((len(vocabulary),len(vocabulary)))\n",
    "for i, token1 in enumerate(tokens[0]):\n",
    "    for j, token2 in enumerate(tokens[0]):\n",
    "        if i != j:\n",
    "            index1, index2 = vocabulary.index(token1), vocabulary.index(token2)\n",
    "            mat[index1][index2] += 1\n",
    "print(mat)"
   ]
  },
  {
   "cell_type": "code",
   "execution_count": 10,
   "id": "a56bc1cd",
   "metadata": {},
   "outputs": [
    {
     "data": {
      "text/plain": [
       "12"
      ]
     },
     "execution_count": 10,
     "metadata": {},
     "output_type": "execute_result"
    }
   ],
   "source": [
    "vocabulary.index('2019')"
   ]
  },
  {
   "cell_type": "code",
   "execution_count": null,
   "id": "04f13dec",
   "metadata": {},
   "outputs": [],
   "source": []
  }
 ],
 "metadata": {
  "kernelspec": {
   "display_name": "Python 3 (ipykernel)",
   "language": "python",
   "name": "python3"
  },
  "language_info": {
   "codemirror_mode": {
    "name": "ipython",
    "version": 3
   },
   "file_extension": ".py",
   "mimetype": "text/x-python",
   "name": "python",
   "nbconvert_exporter": "python",
   "pygments_lexer": "ipython3",
   "version": "3.9.13"
  }
 },
 "nbformat": 4,
 "nbformat_minor": 5
}
