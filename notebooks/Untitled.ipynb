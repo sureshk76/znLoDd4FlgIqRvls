{
 "cells": [
  {
   "cell_type": "code",
   "execution_count": 1,
   "id": "2beaba5e-cc53-4770-91cb-5856c4236e4f",
   "metadata": {},
   "outputs": [],
   "source": [
    "#import required packages\n",
    "import warnings\n",
    "warnings.filterwarnings(\"ignore\")\n",
    "import pandas as pd"
   ]
  },
  {
   "cell_type": "code",
   "execution_count": 2,
   "id": "1debc97f-a91f-4250-811d-aa79af6fe201",
   "metadata": {},
   "outputs": [
    {
     "data": {
      "text/html": [
       "<div>\n",
       "<style scoped>\n",
       "    .dataframe tbody tr th:only-of-type {\n",
       "        vertical-align: middle;\n",
       "    }\n",
       "\n",
       "    .dataframe tbody tr th {\n",
       "        vertical-align: top;\n",
       "    }\n",
       "\n",
       "    .dataframe thead th {\n",
       "        text-align: right;\n",
       "    }\n",
       "</style>\n",
       "<table border=\"1\" class=\"dataframe\">\n",
       "  <thead>\n",
       "    <tr style=\"text-align: right;\">\n",
       "      <th></th>\n",
       "      <th>job_title</th>\n",
       "      <th>location</th>\n",
       "      <th>connection</th>\n",
       "      <th>fit</th>\n",
       "    </tr>\n",
       "    <tr>\n",
       "      <th>id</th>\n",
       "      <th></th>\n",
       "      <th></th>\n",
       "      <th></th>\n",
       "      <th></th>\n",
       "    </tr>\n",
       "  </thead>\n",
       "  <tbody>\n",
       "    <tr>\n",
       "      <th>1</th>\n",
       "      <td>2019 C.T. Bauer College of Business Graduate (...</td>\n",
       "      <td>Houston, Texas</td>\n",
       "      <td>85</td>\n",
       "      <td>NaN</td>\n",
       "    </tr>\n",
       "    <tr>\n",
       "      <th>2</th>\n",
       "      <td>Native English Teacher at EPIK (English Progra...</td>\n",
       "      <td>Kanada</td>\n",
       "      <td>500+</td>\n",
       "      <td>NaN</td>\n",
       "    </tr>\n",
       "    <tr>\n",
       "      <th>3</th>\n",
       "      <td>Aspiring Human Resources Professional</td>\n",
       "      <td>Raleigh-Durham, North Carolina Area</td>\n",
       "      <td>44</td>\n",
       "      <td>NaN</td>\n",
       "    </tr>\n",
       "    <tr>\n",
       "      <th>4</th>\n",
       "      <td>People Development Coordinator at Ryan</td>\n",
       "      <td>Denton, Texas</td>\n",
       "      <td>500+</td>\n",
       "      <td>NaN</td>\n",
       "    </tr>\n",
       "    <tr>\n",
       "      <th>5</th>\n",
       "      <td>Advisory Board Member at Celal Bayar University</td>\n",
       "      <td>İzmir, Türkiye</td>\n",
       "      <td>500+</td>\n",
       "      <td>NaN</td>\n",
       "    </tr>\n",
       "  </tbody>\n",
       "</table>\n",
       "</div>"
      ],
      "text/plain": [
       "                                            job_title  \\\n",
       "id                                                      \n",
       "1   2019 C.T. Bauer College of Business Graduate (...   \n",
       "2   Native English Teacher at EPIK (English Progra...   \n",
       "3               Aspiring Human Resources Professional   \n",
       "4              People Development Coordinator at Ryan   \n",
       "5     Advisory Board Member at Celal Bayar University   \n",
       "\n",
       "                               location connection  fit  \n",
       "id                                                       \n",
       "1                        Houston, Texas         85  NaN  \n",
       "2                                Kanada      500+   NaN  \n",
       "3   Raleigh-Durham, North Carolina Area         44  NaN  \n",
       "4                         Denton, Texas      500+   NaN  \n",
       "5                        İzmir, Türkiye      500+   NaN  "
      ]
     },
     "execution_count": 2,
     "metadata": {},
     "output_type": "execute_result"
    }
   ],
   "source": [
    "df = pd.read_csv(\"../data/external/potential-talents.csv\").set_index('id')\n",
    "df.head()"
   ]
  },
  {
   "cell_type": "code",
   "execution_count": 3,
   "id": "5533965b-350b-483f-bc20-43834b9da1d3",
   "metadata": {},
   "outputs": [
    {
     "data": {
      "text/html": [
       "<div>\n",
       "<style scoped>\n",
       "    .dataframe tbody tr th:only-of-type {\n",
       "        vertical-align: middle;\n",
       "    }\n",
       "\n",
       "    .dataframe tbody tr th {\n",
       "        vertical-align: top;\n",
       "    }\n",
       "\n",
       "    .dataframe thead th {\n",
       "        text-align: right;\n",
       "    }\n",
       "</style>\n",
       "<table border=\"1\" class=\"dataframe\">\n",
       "  <thead>\n",
       "    <tr style=\"text-align: right;\">\n",
       "      <th></th>\n",
       "      <th>job_title</th>\n",
       "      <th>location</th>\n",
       "      <th>connection</th>\n",
       "    </tr>\n",
       "    <tr>\n",
       "      <th>id</th>\n",
       "      <th></th>\n",
       "      <th></th>\n",
       "      <th></th>\n",
       "    </tr>\n",
       "  </thead>\n",
       "  <tbody>\n",
       "    <tr>\n",
       "      <th>1</th>\n",
       "      <td>2019 C.T. Bauer College of Business Graduate (...</td>\n",
       "      <td>Houston, Texas</td>\n",
       "      <td>85</td>\n",
       "    </tr>\n",
       "    <tr>\n",
       "      <th>2</th>\n",
       "      <td>Native English Teacher at EPIK (English Progra...</td>\n",
       "      <td>Kanada</td>\n",
       "      <td>500+</td>\n",
       "    </tr>\n",
       "    <tr>\n",
       "      <th>3</th>\n",
       "      <td>Aspiring Human Resources Professional</td>\n",
       "      <td>Raleigh-Durham, North Carolina Area</td>\n",
       "      <td>44</td>\n",
       "    </tr>\n",
       "    <tr>\n",
       "      <th>4</th>\n",
       "      <td>People Development Coordinator at Ryan</td>\n",
       "      <td>Denton, Texas</td>\n",
       "      <td>500+</td>\n",
       "    </tr>\n",
       "    <tr>\n",
       "      <th>5</th>\n",
       "      <td>Advisory Board Member at Celal Bayar University</td>\n",
       "      <td>İzmir, Türkiye</td>\n",
       "      <td>500+</td>\n",
       "    </tr>\n",
       "  </tbody>\n",
       "</table>\n",
       "</div>"
      ],
      "text/plain": [
       "                                            job_title  \\\n",
       "id                                                      \n",
       "1   2019 C.T. Bauer College of Business Graduate (...   \n",
       "2   Native English Teacher at EPIK (English Progra...   \n",
       "3               Aspiring Human Resources Professional   \n",
       "4              People Development Coordinator at Ryan   \n",
       "5     Advisory Board Member at Celal Bayar University   \n",
       "\n",
       "                               location connection  \n",
       "id                                                  \n",
       "1                        Houston, Texas         85  \n",
       "2                                Kanada      500+   \n",
       "3   Raleigh-Durham, North Carolina Area         44  \n",
       "4                         Denton, Texas      500+   \n",
       "5                        İzmir, Türkiye      500+   "
      ]
     },
     "execution_count": 3,
     "metadata": {},
     "output_type": "execute_result"
    }
   ],
   "source": [
    "# drop fit feature as it contains no data\n",
    "df.drop('fit', axis=1, inplace = True)\n",
    "df.head()"
   ]
  },
  {
   "cell_type": "code",
   "execution_count": 4,
   "id": "33f3ddca-4f2d-4e10-9a19-dee3cbf374a0",
   "metadata": {},
   "outputs": [
    {
     "data": {
      "text/plain": [
       "(53, 3)"
      ]
     },
     "execution_count": 4,
     "metadata": {},
     "output_type": "execute_result"
    }
   ],
   "source": [
    "df.drop_duplicates(inplace=True)\n",
    "df.shape"
   ]
  },
  {
   "cell_type": "code",
   "execution_count": 5,
   "id": "b06dd922-830d-4d53-84db-b7d7dd5bbd2f",
   "metadata": {},
   "outputs": [
    {
     "data": {
      "text/plain": [
       "job_title  location  connection\n",
       "False      False     False         53\n",
       "dtype: int64"
      ]
     },
     "execution_count": 5,
     "metadata": {},
     "output_type": "execute_result"
    }
   ],
   "source": [
    "df.isnull().value_counts()"
   ]
  },
  {
   "cell_type": "code",
   "execution_count": 6,
   "id": "ea06e756-c498-4933-89c1-180bfcc5a736",
   "metadata": {},
   "outputs": [
    {
     "data": {
      "text/plain": [
       "Aspiring Human Resources Professional                                                                                    2\n",
       "2019 C.T. Bauer College of Business Graduate (Magna Cum Laude) and aspiring Human Resources professional                 1\n",
       "Lead Official at Western Illinois University                                                                             1\n",
       "Senior Human Resources Business Partner at Heil Environmental                                                            1\n",
       "Aspiring Human Resources Professional | An energetic and Team-Focused Leader                                             1\n",
       "HR Manager at Endemol Shine North America                                                                                1\n",
       "Human Resources professional for the world leader in GIS software                                                        1\n",
       "RRP Brand Portfolio Executive at JTI (Japan Tobacco International)                                                       1\n",
       "Information Systems Specialist and Programmer with a love for data and organization.                                     1\n",
       "Bachelor of Science in Biology from Victoria University of Wellington                                                    1\n",
       "Human Resources Management Major                                                                                         1\n",
       "Director Human Resources  at EY                                                                                          1\n",
       "Undergraduate Research Assistant at Styczynski Lab                                                                       1\n",
       "Seeking employment opportunities within Customer Service or Patient Care                                                 1\n",
       "Liberal Arts Major. Aspiring Human Resources Analyst.                                                                    1\n",
       "Admissions Representative at Community medical center long beach                                                         1\n",
       "Seeking Human  Resources Opportunities. Open to travel and relocation.                                                   1\n",
       "Student at Westfield State University                                                                                    1\n",
       "Student at Indiana University Kokomo - Business Management - \\nRetail Manager at Delphi Hardware and Paint               1\n",
       "Student                                                                                                                  1\n",
       "Seeking Human Resources Position                                                                                         1\n",
       "Aspiring Human Resources Manager | Graduating May 2020 | Seeking an Entry-Level Human Resources Position in St. Louis    1\n",
       "Human Resources Generalist at Loparex                                                                                    1\n",
       "Business Intelligence and Analytics at Travelers                                                                         1\n",
       "Always set them up for Success                                                                                           1\n",
       "Junior MES Engineer| Information Systems                                                                                 1\n",
       "Human Resources Generalist at Schwan's                                                                                   1\n",
       "Native English Teacher at EPIK (English Program in Korea)                                                                1\n",
       "Seeking Human Resources Opportunities                                                                                    1\n",
       "People Development Coordinator at Ryan                                                                                   1\n",
       "Advisory Board Member at Celal Bayar University                                                                          1\n",
       "Aspiring Human Resources Specialist                                                                                      1\n",
       "Student at Humber College and Aspiring Human Resources Generalist                                                        1\n",
       "HR Senior Specialist                                                                                                     1\n",
       "Seeking Human Resources HRIS and Generalist Positions                                                                    1\n",
       "Student at Chapman University                                                                                            1\n",
       "SVP, CHRO, Marketing & Communications, CSR Officer | ENGIE | Houston | The Woodlands | Energy | GPHR | SPHR              1\n",
       "Human Resources Coordinator at InterContinental Buckhead Atlanta                                                         1\n",
       "Aspiring Human Resources Management student seeking an internship                                                        1\n",
       "Experienced Retail Manager and aspiring Human Resources Professional                                                     1\n",
       "Human Resources|\\nConflict Management|\\nPolicies & Procedures|Talent Management|Benefits & Compensation                  1\n",
       "Human Resources, Staffing and Recruiting Professional                                                                    1\n",
       "Human Resources Specialist at Luxottica                                                                                  1\n",
       "Director of Human Resources North America, Groupe Beneteau                                                               1\n",
       "Retired Army National Guard Recruiter, office manager,  seeking a position in Human Resources.                           1\n",
       "Human Resources Generalist at ScottMadden, Inc.                                                                          1\n",
       "Business Management Major and Aspiring Human Resources Manager                                                           1\n",
       "Aspiring Human Resources Manager, seeking internship in Human Resources.                                                 1\n",
       "Human Resources Professional                                                                                             1\n",
       "Nortia Staffing is seeking Human Resources, Payroll & Administrative Professionals!!  (408) 709-2621                     1\n",
       "Aspiring Human Resources Professional | Passionate about helping to create an inclusive and engaging work environment    1\n",
       "Director Of Administration at Excellence Logging                                                                         1\n",
       "Name: job_title, dtype: int64"
      ]
     },
     "execution_count": 6,
     "metadata": {},
     "output_type": "execute_result"
    }
   ],
   "source": [
    "df.job_title.value_counts()"
   ]
  },
  {
   "cell_type": "code",
   "execution_count": 7,
   "id": "7904d9ab-c18f-43ac-83d2-c995c1ea5316",
   "metadata": {},
   "outputs": [
    {
     "data": {
      "text/plain": [
       "(53, 3)"
      ]
     },
     "execution_count": 7,
     "metadata": {},
     "output_type": "execute_result"
    }
   ],
   "source": [
    "df.shape"
   ]
  },
  {
   "cell_type": "code",
   "execution_count": 88,
   "id": "a6dc87fc-cbed-4b4f-a3aa-dbf9d36e36c3",
   "metadata": {},
   "outputs": [],
   "source": [
    "# print(df['job_title'].loc[0])\n",
    "import re\n",
    "import nltk\n",
    "# nltk.download('wordnet')\n",
    "# nltk.download('stopwords')\n",
    "# nltk.download('punkt')\n",
    "from nltk.stem import WordNetLemmatizer\n",
    "from nltk.tokenize import word_tokenize\n",
    "from nltk.corpus import stopwords\n",
    "\n",
    "def get_preprossed_text(text):\n",
    "    pattern1 = r'[0-9]'\n",
    "    pattern2 = r'[\\n]'\n",
    "    pattern3 = r'[^\\s\\w]'\n",
    "    pattern4 = r'\\s+'\n",
    "    t1 = re.sub(pattern1, '', text)\n",
    "    t2 = re.sub(pattern2, ' ', t1)\n",
    "    t3 = re.sub(pattern3, '', t2)\n",
    "    t4 = re.sub(pattern4, ' ', t3)\n",
    "    t5 = t4.lower()\n",
    "    lemmatizer = WordNetLemmatizer()\n",
    "    tokenized_words =  word_tokenize(t5)\n",
    "    lemmatized_words = [lemmatizer.lemmatize(tokens, pos='v') for tokens in tokenized_words] \n",
    "    processed_text = ' '.join(lemmatized_words)\n",
    "    stop_words = stopwords.words('english')\n",
    "    tokenized_text = word_tokenize(processed_text)\n",
    "    stripped_words = []\n",
    "    for word in tokenized_text:\n",
    "        if word not in stop_words:\n",
    "            stripped_words.append(word)\n",
    "    processed_text = ' '.join(stripped_words)\n",
    "    return processed_text\n",
    "\n",
    "df['job_title'] = df.job_title.apply(get_preprossed_text)"
   ]
  },
  {
   "cell_type": "code",
   "execution_count": 89,
   "id": "3aa5804d-d421-4496-9620-85e2af964038",
   "metadata": {},
   "outputs": [],
   "source": [
    "df.replace({'job_title' : { 'chro' : 'chief human resources officer', 'svp' : 'senior vice president'\n",
    "        ,'gphr' : 'global professional in human resources','hris' : 'human resources management system'\n",
    "        , 'csr' : 'corporate social responsibility', 'sphr' : 'strategic and policy-making certification'\n",
    "        , 'hr' : 'human resources'}}, regex=True, inplace=True)"
   ]
  },
  {
   "cell_type": "code",
   "execution_count": 90,
   "id": "66965f32-6f41-4f7a-8494-3f3b48afcfdb",
   "metadata": {},
   "outputs": [
    {
     "name": "stdout",
     "output_type": "stream",
     "text": [
      "182\n",
      "[('human', 39), ('resources', 39), ('aspire', 13), ('professional', 10), ('seek', 10), ('manager', 7), ('university', 6), ('student', 6), ('management', 6), ('business', 5), ('generalist', 5), ('specialist', 4), ('position', 4), ('senior', 3), ('opportunities', 3), ('director', 3), ('major', 3), ('college', 2), ('graduate', 2), ('english', 2), ('coordinator', 2), ('officer', 2), ('internship', 2), ('retail', 2), ('staff', 2), ('north', 2), ('america', 2), ('information', 2), ('systems', 2), ('leader', 2), ('ct', 1), ('bauer', 1), ('magna', 1), ('cum', 1), ('laude', 1), ('native', 1), ('teacher', 1), ('epik', 1), ('program', 1), ('korea', 1), ('people', 1), ('development', 1), ('ryan', 1), ('advisory', 1), ('board', 1), ('member', 1), ('celal', 1), ('bayar', 1), ('humber', 1), ('system', 1), ('chapman', 1), ('vice', 1), ('president', 1), ('chief', 1), ('market', 1), ('communications', 1), ('corporate', 1), ('social', 1), ('responsibility', 1), ('engie', 1), ('houston', 1), ('woodlands', 1), ('energy', 1), ('global', 1), ('in', 1), ('strategic', 1), ('and', 1), ('policy-making', 1), ('certification', 1), ('intercontinental', 1), ('buckhead', 1), ('atlanta', 1), ('experience', 1), ('recruit', 1), ('luxottica', 1), ('groupe', 1), ('beneteau', 1), ('retire', 1), ('army', 1), ('national', 1), ('guard', 1), ('recruiter', 1), ('office', 1), ('scottmadden', 1), ('inc', 1), ('nortia', 1), ('payroll', 1), ('administrative', 1), ('professionals', 1), ('passionate', 1), ('help', 1), ('create', 1), ('inclusive', 1), ('engage', 1), ('work', 1), ('environment', 1), ('conflict', 1), ('policies', 1), ('procedurestalent', 1), ('managementbenefits', 1), ('compensation', 1), ('schwans', 1), ('liberal', 1), ('arts', 1), ('analyst', 1), ('junior', 1), ('mes', 1), ('engineer', 1), ('partner', 1), ('heil', 1), ('environmental', 1), ('energetic', 1), ('teamfocused', 1), ('endemol', 1), ('shine', 1), ('world', 1), ('gi', 1), ('software', 1), ('rrp', 1), ('brand', 1), ('portfolio', 1), ('executive', 1), ('jti', 1), ('japan', 1), ('tobacco', 1), ('international', 1), ('programmer', 1), ('love', 1), ('data', 1), ('organization', 1), ('bachelor', 1), ('science', 1), ('biology', 1), ('victoria', 1), ('wellington', 1), ('ey', 1), ('undergraduate', 1), ('research', 1), ('assistant', 1), ('styczynski', 1), ('lab', 1), ('lead', 1), ('official', 1), ('western', 1), ('illinois', 1), ('employment', 1), ('within', 1), ('customer', 1), ('service', 1), ('patient', 1), ('care', 1), ('admissions', 1), ('representative', 1), ('community', 1), ('medical', 1), ('center', 1), ('long', 1), ('beach', 1), ('open', 1), ('travel', 1), ('relocation', 1), ('westfield', 1), ('state', 1), ('indiana', 1), ('kokomo', 1), ('delphi', 1), ('hardware', 1), ('paint', 1), ('may', 1), ('entrylevel', 1), ('st', 1), ('louis', 1), ('loparex', 1), ('intelligence', 1), ('analytics', 1), ('travelers', 1), ('always', 1), ('set', 1), ('success', 1), ('administration', 1), ('excellence', 1), ('log', 1)]\n"
     ]
    }
   ],
   "source": [
    "from collections import Counter\n",
    "words_counts = Counter()\n",
    "for sentence in df.job_title:\n",
    "    for word in sentence.split(' '):\n",
    "        words_counts[word] += 1\n",
    "print(len(words_counts))\n",
    "print(words_counts.most_common())"
   ]
  },
  {
   "cell_type": "markdown",
   "id": "4879e888-8f62-4838-9c83-44514d341058",
   "metadata": {},
   "source": [
    "###### Bag of words"
   ]
  },
  {
   "cell_type": "code",
   "execution_count": 91,
   "id": "38da3d05-a987-4c09-9649-93f4e20b541e",
   "metadata": {},
   "outputs": [],
   "source": [
    "from sklearn.feature_extraction.text import CountVectorizer"
   ]
  },
  {
   "cell_type": "code",
   "execution_count": 94,
   "id": "a479a5ee-07e9-4b38-a15b-3da923c9b00a",
   "metadata": {},
   "outputs": [
    {
     "name": "stdout",
     "output_type": "stream",
     "text": [
      "[[0 0 0 ... 0 0 0]\n",
      " [0 0 0 ... 0 0 0]\n",
      " [0 0 0 ... 0 0 0]\n",
      " ...\n",
      " [0 0 0 ... 0 0 0]\n",
      " [0 0 0 ... 0 0 0]\n",
      " [1 0 0 ... 0 0 0]]\n"
     ]
    }
   ],
   "source": [
    "\n",
    "def rank_candidates_bag_of_words(keyword, df, feature_name, ngram):\n",
    "    corpus = df[feature_name].tolist()\n",
    "    keyword = get_preprossed_text(keyword)\n",
    "    vectorizer = CountVectorizer( binary = True, ngram_range=(ngram))\n",
    "    vectors = vectorizer.fit_transform(corpus)\n",
    "    # corpus.append(keyword)\n",
    "    print(vectors.toarray())\n",
    "rank_candidates_bag_of_words('human resources', df, 'job_title', (2,2))"
   ]
  },
  {
   "cell_type": "code",
   "execution_count": null,
   "id": "9b59eaea-de77-49f9-ae2f-8bf0b12b90e9",
   "metadata": {},
   "outputs": [],
   "source": []
  }
 ],
 "metadata": {
  "kernelspec": {
   "display_name": "Python 3 (ipykernel)",
   "language": "python",
   "name": "python3"
  },
  "language_info": {
   "codemirror_mode": {
    "name": "ipython",
    "version": 3
   },
   "file_extension": ".py",
   "mimetype": "text/x-python",
   "name": "python",
   "nbconvert_exporter": "python",
   "pygments_lexer": "ipython3",
   "version": "3.9.16"
  }
 },
 "nbformat": 4,
 "nbformat_minor": 5
}
